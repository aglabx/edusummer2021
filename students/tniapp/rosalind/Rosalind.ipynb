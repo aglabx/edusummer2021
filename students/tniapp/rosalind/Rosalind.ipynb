{
 "cells": [
  {
   "cell_type": "code",
   "execution_count": 1,
   "metadata": {},
   "outputs": [
    {
     "name": "stdout",
     "output_type": "stream",
     "text": [
      "The Zen of Python, by Tim Peters\n",
      "\n",
      "Beautiful is better than ugly.\n",
      "Explicit is better than implicit.\n",
      "Simple is better than complex.\n",
      "Complex is better than complicated.\n",
      "Flat is better than nested.\n",
      "Sparse is better than dense.\n",
      "Readability counts.\n",
      "Special cases aren't special enough to break the rules.\n",
      "Although practicality beats purity.\n",
      "Errors should never pass silently.\n",
      "Unless explicitly silenced.\n",
      "In the face of ambiguity, refuse the temptation to guess.\n",
      "There should be one-- and preferably only one --obvious way to do it.\n",
      "Although that way may not be obvious at first unless you're Dutch.\n",
      "Now is better than never.\n",
      "Although never is often better than *right* now.\n",
      "If the implementation is hard to explain, it's a bad idea.\n",
      "If the implementation is easy to explain, it may be a good idea.\n",
      "Namespaces are one honking great idea -- let's do more of those!\n"
     ]
    }
   ],
   "source": [
    "## Installing Python\n",
    "# After downloading and installing Python, type import this into the Python command line and see what happens. \n",
    "\n",
    "import this"
   ]
  },
  {
   "cell_type": "code",
   "execution_count": null,
   "metadata": {},
   "outputs": [],
   "source": [
    "## Variables and Some Arithmetic\n",
    "# Given: Two positive integers a and b, each less than 1000.\n",
    "# Return: The integer corresponding to the square of the hypotenuse of the right triangle whose legs have lengths a and b.\n",
    "\n",
    "dataset = \"/path/to/dataset.txt\"\n",
    "\n",
    "with open(dataset) as fh:\n",
    "    for line in fh:\n",
    "        a = int(line.split()[0])\n",
    "        b = int(line.split()[1])\n",
    "        if a > 1000 or b > 1000:\n",
    "            print(\"Try another numbers\")\n",
    "        else:\n",
    "            print(a**2 + b**2)"
   ]
  },
  {
   "cell_type": "code",
   "execution_count": null,
   "metadata": {},
   "outputs": [],
   "source": [
    "## Strings and Lists\n",
    "# Given: A string s of length at most 200 letters and four integers a, b, c and d.\n",
    "# Return: The slice of this string from indices a through b and c through d (with space in between), inclusively. In other words, we should include elements s[b] and s[d] in our slice.\n",
    "\n",
    "dataset = \"/path/to/dataset.txt\"\n",
    "\n",
    "with open(dataset) as fh:\n",
    "    for line in fh:\n",
    "        line = line.strip().split()\n",
    "        if len(line) == 1:\n",
    "            string = line\n",
    "        if len(line) > 1:\n",
    "            print(line)\n",
    "            for element in line:\n",
    "                element = int(element)\n",
    "                if element not in slices:\n",
    "                    slices.append(element)\n",
    "string = string[0]\n",
    "if len(string) > 200:\n",
    "    print(\"Something wrong in string format. Try another string with length less than 200 symbols\")\n",
    "\n",
    "print(string[slices[0]: slices[1]+1], string[slices[2]: slices[3]+1])"
   ]
  },
  {
   "cell_type": "code",
   "execution_count": 17,
   "metadata": {},
   "outputs": [
    {
     "name": "stdout",
     "output_type": "stream",
     "text": [
      "7500\n"
     ]
    }
   ],
   "source": [
    "## Conditions and Loops\n",
    "# Given: Two positive integers a and b (a<b<10000).\n",
    "# Return: The sum of all odd integers from a through b, inclusively.\n",
    "\n",
    "dataset = \"/mnt/c/Users/pchesnokova/Desktop/dataset.txt\"\n",
    "\n",
    "with open(dataset) as fh:\n",
    "    for line in fh:\n",
    "        line = line.strip().split()\n",
    "        a = int(line[0])\n",
    "        b = int(line[1])\n",
    "\n",
    "if a > b or a >= 10000 or b >= 10000:\n",
    "    print(\"Please, select a < b or a, b < 10000\")\n",
    "else:\n",
    "    if a % 2 == 0:\n",
    "        a += 1\n",
    "\n",
    "    odd_sum = 0\n",
    "    for number in range(a, b, 2):\n",
    "        odd_sum += number\n",
    "\n",
    "    print(odd_sum)"
   ]
  },
  {
   "cell_type": "code",
   "execution_count": 19,
   "metadata": {},
   "outputs": [
    {
     "name": "stdout",
     "output_type": "stream",
     "text": [
      "Yes, brave Sir Robin turned about\n",
      "And gallantly he chickened out\n",
      "Bravely talking to his feet\n",
      "He beat a very brave retreat\n"
     ]
    }
   ],
   "source": [
    "## Working with Files\n",
    "# Given: A file containing at most 1000 lines.\n",
    "# Return: A file containing all the even-numbered lines from the original file. Assume 1-based numbering of lines.\n",
    "\n",
    "dataset = \"/mnt/c/Users/pchesnokova/Desktop/dataset.txt\"\n",
    "cnt = 1\n",
    "\n",
    "with open(dataset) as fh:\n",
    "    for line in fh:\n",
    "        line = line.strip()\n",
    "        if cnt > 1000:\n",
    "            print(\"Too huge text\")\n",
    "            break\n",
    "        if cnt % 2 == 0:\n",
    "            print(line)\n",
    "        cnt += 1\n"
   ]
  },
  {
   "cell_type": "code",
   "execution_count": 26,
   "metadata": {},
   "outputs": [
    {
     "name": "stdout",
     "output_type": "stream",
     "text": [
      "We tried list and we tried dicts also we tried Zen\n",
      "\n",
      "We 1\n",
      "tried 3\n",
      "list 1\n",
      "and 1\n",
      "we 2\n",
      "dicts 1\n",
      "also 1\n",
      "Zen 1\n"
     ]
    }
   ],
   "source": [
    "## Dictionaries\n",
    "# Given: A string s of length at most 10000 letters.\n",
    "# Return: The number of occurrences of each word in s, where words are separated by spaces. Words are case-sensitive, and the lines in the output can be in any order.\n",
    "\n",
    "dataset = \"/mnt/c/Users/pchesnokova/Desktop/dataset.txt\"\n",
    "word2count = {}\n",
    "\n",
    "with open(dataset) as fh:\n",
    "    for line in fh:\n",
    "        if len(line) > 10000:\n",
    "            print(\"Try string with length at most 10000 letters\")\n",
    "        line = line.strip().split()\n",
    "        for word in line:\n",
    "            if word not in word2count.keys():\n",
    "                word2count[word] = 1\n",
    "            else:\n",
    "                word2count[word] += 1\n",
    "\n",
    "for word, count in word2count.items():\n",
    "    print(word, count)\n"
   ]
  },
  {
   "cell_type": "code",
   "execution_count": null,
   "metadata": {},
   "outputs": [],
   "source": []
  }
 ],
 "metadata": {
  "kernelspec": {
   "display_name": "Python 3",
   "language": "python",
   "name": "python3"
  },
  "language_info": {
   "codemirror_mode": {
    "name": "ipython",
    "version": 3
   },
   "file_extension": ".py",
   "mimetype": "text/x-python",
   "name": "python",
   "nbconvert_exporter": "python",
   "pygments_lexer": "ipython3",
   "version": "3.7.3"
  }
 },
 "nbformat": 4,
 "nbformat_minor": 2
}
