{
 "cells": [
  {
   "cell_type": "code",
   "execution_count": 1,
   "metadata": {},
   "outputs": [
    {
     "name": "stdout",
     "output_type": "stream",
     "text": [
      "1\n",
      "-1\n"
     ]
    }
   ],
   "source": [
    "# Opposite number\n",
    "\n",
    "print(-1 * int(input()))"
   ]
  },
  {
   "cell_type": "code",
   "execution_count": 6,
   "metadata": {},
   "outputs": [],
   "source": [
    "## Even or Odd\n",
    "\n",
    "def odd_even(number):\n",
    "    if number % 2 == 0:\n",
    "        return \"Even\"\n",
    "    else:\n",
    "        return \"Odd\""
   ]
  },
  {
   "cell_type": "code",
   "execution_count": 12,
   "metadata": {},
   "outputs": [
    {
     "data": {
      "text/plain": [
       "8"
      ]
     },
     "execution_count": 12,
     "metadata": {},
     "output_type": "execute_result"
    }
   ],
   "source": [
    "# Vowel Count\n",
    "\n",
    "def vowel_cnt(string):\n",
    "    vowel_cnt = 0\n",
    "    vowel_list = ['a', 'e', 'i', 'o', 'u']\n",
    "    for i in string:\n",
    "        if i in vowel_list:\n",
    "            vowel_cnt += 1\n",
    "    return vowel_cnt     \n",
    "                \n",
    "vowel_cnt(\"This website is for losers LOL!\")\n",
    "            "
   ]
  },
  {
   "cell_type": "code",
   "execution_count": 20,
   "metadata": {},
   "outputs": [
    {
     "data": {
      "text/plain": [
       "'Ths wbst s fr lsrs LL!'"
      ]
     },
     "execution_count": 20,
     "metadata": {},
     "output_type": "execute_result"
    }
   ],
   "source": [
    "# Disemvowel Trolls\n",
    "\n",
    "def del_vowel(string):\n",
    "    return ''.join([i for i in string if i not in 'aeiouAEIOU'])\n",
    "                \n",
    "del_vowel(\"This website is for losers LOL!\")"
   ]
  },
  {
   "cell_type": "code",
   "execution_count": 41,
   "metadata": {},
   "outputs": [],
   "source": [
    "# Get the Middle Character\n",
    "\n",
    "def getMiddle(string):\n",
    "    return string[int(len(string) / 2)] if len(string) % 2 != 0 else string[int(len(string) / 2) - 1: int(len(string) / 2) + 1]"
   ]
  },
  {
   "cell_type": "code",
   "execution_count": 1,
   "metadata": {},
   "outputs": [
    {
     "data": {
      "text/plain": [
       "31.4"
      ]
     },
     "execution_count": 1,
     "metadata": {},
     "output_type": "execute_result"
    }
   ],
   "source": [
    "# All Star Code Challenge #1\n",
    "\n",
    "iverson = { 'team': '76ers', 'ppg': 11.2 }\n",
    "jordan =  { 'team': 'bulls', 'ppg': 20.2 }\n",
    "\n",
    "def sum_ppg(player1, player2):\n",
    "    return player1['ppg'] + player2['ppg']\n",
    "\n",
    "sum_ppg(iverson, jordan)"
   ]
  },
  {
   "cell_type": "code",
   "execution_count": 157,
   "metadata": {},
   "outputs": [],
   "source": [
    "# Who likes it?\n",
    "\n",
    "def likes(array):\n",
    "    if len(array) <= 1:\n",
    "        return \"%s likes this\" % (array[0] if len(array) == 1 else \"no one\")\n",
    "    else:\n",
    "        if 2 <= len(array) <= 3:\n",
    "            array.insert(-1, 'and')\n",
    "            if len(array) == 3:\n",
    "                return \"%s like this\" % ' '.join(array)\n",
    "            else:\n",
    "                return \"%s like this\" % (', '.join(array[0:2]) + ' ' + ' '.join(array[2:]))\n",
    "        else:\n",
    "            cnt = len(array) - 2\n",
    "            return \"%s and %s others like this\" % (', '.join(array[0:2]), cnt)\n"
   ]
  },
  {
   "cell_type": "code",
   "execution_count": 12,
   "metadata": {},
   "outputs": [
    {
     "data": {
      "text/plain": [
       "[1, 3]"
      ]
     },
     "execution_count": 12,
     "metadata": {},
     "output_type": "execute_result"
    }
   ],
   "source": [
    "# Array.diff\n",
    "\n",
    "def array_diff(list1, list2):\n",
    "    new_list = []\n",
    "    [new_list.append(i) for i in list1 if i not in list2]\n",
    "    return new_list\n",
    "\n",
    "array_diff([1,2,2,2,3],[2]) # [1,3]"
   ]
  },
  {
   "cell_type": "code",
   "execution_count": 30,
   "metadata": {},
   "outputs": [
    {
     "data": {
      "text/plain": [
       "'1 hour and 0 minute(s)'"
      ]
     },
     "execution_count": 30,
     "metadata": {},
     "output_type": "execute_result"
    }
   ],
   "source": [
    "# All Star Code Challenge #22\n",
    "\n",
    "def to_time(seconds):\n",
    "    return f\"{seconds//3600} hour(s) and {seconds%3600//60} minute(s)\"\n",
    "\n",
    "to_time(3601) # \"1 hour(s) and 0 minute(s)\"\n"
   ]
  },
  {
   "cell_type": "code",
   "execution_count": null,
   "metadata": {},
   "outputs": [],
   "source": []
  }
 ],
 "metadata": {
  "kernelspec": {
   "display_name": "Python 3",
   "language": "python",
   "name": "python3"
  },
  "language_info": {
   "codemirror_mode": {
    "name": "ipython",
    "version": 3
   },
   "file_extension": ".py",
   "mimetype": "text/x-python",
   "name": "python",
   "nbconvert_exporter": "python",
   "pygments_lexer": "ipython3",
   "version": "3.7.3"
  }
 },
 "nbformat": 4,
 "nbformat_minor": 2
}
